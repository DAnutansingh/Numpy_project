{
 "cells": [
  {
   "cell_type": "code",
   "execution_count": 2,
   "id": "3558703f-cafd-4147-8d37-868bd98b977c",
   "metadata": {},
   "outputs": [],
   "source": [
    "import numpy as np"
   ]
  },
  {
   "cell_type": "code",
   "execution_count": 12,
   "id": "d858e34d-8346-4943-8ca8-0ff2a2ae98de",
   "metadata": {},
   "outputs": [
    {
     "name": "stdout",
     "output_type": "stream",
     "text": [
      "C:\\Users\\devis\\OneDrive\\Desktop\\python data analysis\n"
     ]
    }
   ],
   "source": [
    "import os\n",
    "print(os.getcwd())"
   ]
  },
  {
   "cell_type": "code",
   "execution_count": 14,
   "id": "db24596e-ef6c-4e2a-b5e0-608bada181da",
   "metadata": {},
   "outputs": [],
   "source": [
    "taxi=np.genfromtxt('nyc_taxis.csv',delimiter=',',skip_header=True)"
   ]
  },
  {
   "cell_type": "code",
   "execution_count": 16,
   "id": "7ebf97d9-708e-4b75-a19f-04fe7ba99f2a",
   "metadata": {},
   "outputs": [],
   "source": [
    "speed=taxi[:,7]/(taxi[:,8]/3600)"
   ]
  },
  {
   "cell_type": "code",
   "execution_count": 18,
   "id": "41b1a858-a3e9-48a8-9e8b-48bcccb5554e",
   "metadata": {},
   "outputs": [
    {
     "name": "stdout",
     "output_type": "stream",
     "text": [
      "32.24258580925573\n"
     ]
    }
   ],
   "source": [
    "#mean speed of all the rides\n",
    "mean_speed=speed.mean()\n",
    "print(mean_speed)"
   ]
  },
  {
   "cell_type": "code",
   "execution_count": 21,
   "id": "df1ed5c7-3856-4c0e-aba4-fb4b1366abb8",
   "metadata": {},
   "outputs": [
    {
     "name": "stdout",
     "output_type": "stream",
     "text": [
      "13333\n"
     ]
    }
   ],
   "source": [
    "#number of rides taken in february\n",
    "rides_feb=taxi[taxi[:,1]==2,1]\n",
    "print(rides_feb.shape[0])"
   ]
  },
  {
   "cell_type": "code",
   "execution_count": 23,
   "id": "e249b1f9-8cc3-4300-8019-635b66b3198a",
   "metadata": {},
   "outputs": [
    {
     "name": "stdout",
     "output_type": "stream",
     "text": [
      "16\n"
     ]
    }
   ],
   "source": [
    "#no of rides where tip more than $50\n",
    "print(taxi[taxi[:,-3]>50,-3].shape[0])"
   ]
  },
  {
   "cell_type": "code",
   "execution_count": 24,
   "id": "a3bef606-7c18-46e7-818e-6449a8f865be",
   "metadata": {},
   "outputs": [
    {
     "name": "stdout",
     "output_type": "stream",
     "text": [
      "11832\n"
     ]
    }
   ],
   "source": [
    "#no of rides where drop was JFK airport\n",
    "print(taxi[taxi[:,6]==2,6].shape[0])"
   ]
  }
 ],
 "metadata": {
  "kernelspec": {
   "display_name": "Python 3 (ipykernel)",
   "language": "python",
   "name": "python3"
  },
  "language_info": {
   "codemirror_mode": {
    "name": "ipython",
    "version": 3
   },
   "file_extension": ".py",
   "mimetype": "text/x-python",
   "name": "python",
   "nbconvert_exporter": "python",
   "pygments_lexer": "ipython3",
   "version": "3.12.3"
  }
 },
 "nbformat": 4,
 "nbformat_minor": 5
}
